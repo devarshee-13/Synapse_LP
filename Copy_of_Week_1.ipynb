{
  "nbformat": 4,
  "nbformat_minor": 0,
  "metadata": {
    "colab": {
      "provenance": [],
      "include_colab_link": true
    },
    "kernelspec": {
      "name": "python3",
      "display_name": "Python 3"
    },
    "language_info": {
      "name": "python"
    }
  },
  "cells": [
    {
      "cell_type": "markdown",
      "metadata": {
        "id": "view-in-github",
        "colab_type": "text"
      },
      "source": [
        "<a href=\"https://colab.research.google.com/github/qrinefurr/Synapse_LP/blob/main/Copy_of_Week_1.ipynb\" target=\"_parent\"><img src=\"https://colab.research.google.com/assets/colab-badge.svg\" alt=\"Open In Colab\"/></a>"
      ]
    },
    {
      "cell_type": "markdown",
      "source": [
        "# **Task 1**\n",
        "\n",
        "## **Learning Period Synapse**\n",
        "\n",
        "Resources: https://www.youtube.com/watch?v=UB3DE5Bgfx4, https://www.youtube.com/watch?v=QUT1VHiLmmI, https://www.youtube.com/watch?v=yZTBMMdPOww, https://www.youtube.com/watch?v=irHhDMbw3xo, https://www.youtube.com/watch?v=s9e2A04lmXI"
      ],
      "metadata": {
        "id": "MT3w7e6IUlR_"
      }
    },
    {
      "cell_type": "markdown",
      "source": [
        "Mounting Google drive"
      ],
      "metadata": {
        "id": "t7WG_q-SVPhz"
      }
    },
    {
      "cell_type": "code",
      "execution_count": null,
      "metadata": {
        "id": "YwO-ECXjUiUA"
      },
      "outputs": [],
      "source": [
        "from google.colab import drive\n",
        "drive.mount(\"/content/gdrive\")"
      ]
    },
    {
      "cell_type": "markdown",
      "source": [
        "##**1) Import Pandas, Numpy and Matplotlib**"
      ],
      "metadata": {
        "id": "pDnn9JDVVuz6"
      }
    },
    {
      "cell_type": "code",
      "source": [
        "# Your code starts here\n",
        "\n",
        "# Your code ends here"
      ],
      "metadata": {
        "id": "Hux_sVeKVrCZ"
      },
      "execution_count": null,
      "outputs": []
    },
    {
      "cell_type": "markdown",
      "source": [
        "## **2) Load the data**\n",
        "load the titanic dataset in a pandas dataframe\n",
        "(download dataset from https://www.kaggle.com/c/titanic/data and store it in a folder called \"syanpse_w1\" in the root of your drive)\n",
        "Note that you have to download the train and test csv files seperately"
      ],
      "metadata": {
        "id": "o2tKRr_sWH2X"
      }
    },
    {
      "cell_type": "code",
      "source": [
        "train_path = \"/content/gdrive/My Drive/synapse_w1/train.csv\"\n",
        "test_path = \"/content/gdrive/My Drive/synapse_w1/test.csv\"\n",
        "# Your code starts here\n",
        "\n",
        "# Your code ends here"
      ],
      "metadata": {
        "id": "Er3-Y23TWGpM"
      },
      "execution_count": null,
      "outputs": []
    },
    {
      "cell_type": "markdown",
      "source": [
        "Write code to show first five data entries of both dataframes"
      ],
      "metadata": {
        "id": "Zj_dDDRSWnjh"
      }
    },
    {
      "cell_type": "code",
      "source": [
        "# Your code starts here\n",
        "\n",
        "# Your code ends here"
      ],
      "metadata": {
        "id": "C-yho5w4WlxR"
      },
      "execution_count": null,
      "outputs": []
    },
    {
      "cell_type": "markdown",
      "source": [
        "## **3) Exploratory Data Analysis**\n",
        "Exploratory data analysis is a very important part of ML as it helps you understand the data you are dealing with\n",
        "We will be working on the training dataset here to observe and analyze the patterns of the dataset.\n",
        "\n",
        "Pandas documentation: https://pandas.pydata.org/docs/\n",
        "\n",
        "Numpy documentation: https://numpy.org/doc/1.23/"
      ],
      "metadata": {
        "id": "IR8vn2hYW5oY"
      }
    },
    {
      "cell_type": "markdown",
      "source": [
        "### 3.a. Overview of the dataset\n",
        "\n",
        "\n",
        "1.   write code to list the columns in your dataframe\n",
        "2.   write a function that returns the number of rows and columns in the dataset\n",
        "3.   use the info() method of pandas dataframe to print the info related to the dataframe\n",
        "4.   use the describe() method of pandas dataframe to print the statistical description of the dataset\n",
        "5.   Find all columns that have unique values. (example : the Gender column has 2 unique values Male and Female)\n",
        "if the columns have finite unique values, then add them in a dictionary of lists and print it\n",
        "dictionary should look like :\n",
        "\n",
        "  {\"Gender\" : [\"Male\", \"Female\"], \"Col2\" : [\"unique1\", \"unique2\"],...}\n",
        "\n"
      ],
      "metadata": {
        "id": "eK6AzEoeYHbT"
      }
    },
    {
      "cell_type": "code",
      "source": [
        "# Your code for listing columns starts here\n",
        "\n",
        "# Your code ends here"
      ],
      "metadata": {
        "id": "7Hlf6xJ6WGh6"
      },
      "execution_count": null,
      "outputs": []
    },
    {
      "cell_type": "code",
      "source": [
        "# Your code for writing the function starts here\n",
        "\n",
        "# Your code ends here"
      ],
      "metadata": {
        "id": "m_BzjkEUZPYc"
      },
      "execution_count": null,
      "outputs": []
    },
    {
      "cell_type": "code",
      "source": [
        "# Your code for using the info() method starts here\n",
        "\n",
        "# Your code ends here"
      ],
      "metadata": {
        "id": "Sc_ExyyTgcOh"
      },
      "execution_count": null,
      "outputs": []
    },
    {
      "cell_type": "code",
      "source": [
        "# Your code for using the describe() method starts here\n",
        "\n",
        "# Your code ends here"
      ],
      "metadata": {
        "id": "-y0p2O9ogjTK"
      },
      "execution_count": null,
      "outputs": []
    },
    {
      "cell_type": "code",
      "source": [
        "# Your code for creating a dictionary of unique values in every column starts here\n",
        "\n",
        "# Your code ends here"
      ],
      "metadata": {
        "id": "Corrpazmgqu7"
      },
      "execution_count": null,
      "outputs": []
    },
    {
      "cell_type": "markdown",
      "source": [
        "### 3.b. Visualizing hidden Details\n",
        "Aim is to find relationship between Title and Survival rate\n",
        "\n",
        "\n",
        "*   print the name column of the data\n",
        "*   notice that the word after the first comma encapsulates the title of the person (Mr., Mrs, etc)\n",
        "*   extract the title using regular expression (help given below in the code)\n",
        "*   store the title in a new column in the dataframe. Name the column : Title\n",
        "\n"
      ],
      "metadata": {
        "id": "89nETDabfklE"
      }
    },
    {
      "cell_type": "code",
      "source": [
        "# Your code starts here (for regex help refer next code cell)\n",
        "\n",
        "# Your code ends here"
      ],
      "metadata": {
        "id": "ps09FrE7ZPVE"
      },
      "execution_count": null,
      "outputs": []
    },
    {
      "cell_type": "code",
      "source": [
        "# regex example\n",
        "import re\n",
        "\n",
        "name_eg = \"Petranec, Miss. Matilda\"\n",
        "title_search = re.search('(\\w+)\\.', name_eg) #the first argument is a pattern that we are looking for\n",
        "print(\"result:\", title_search) #this is the result we get after looking for the pattern\n",
        "if title_search:\n",
        "  print(\"pattern found\") #pattern found printed if a pattern like above is found\n",
        "  title = title_search.group(1) #extracting the pattern found by regular expression (title here)\n",
        "  print(\"title:\", title)"
      ],
      "metadata": {
        "id": "94Zu_5wJhCaj"
      },
      "execution_count": null,
      "outputs": []
    },
    {
      "cell_type": "code",
      "source": [
        "# show the new dataframe with \"Title\" column here\n",
        "\n",
        "# Your code ends here"
      ],
      "metadata": {
        "id": "J9CUzifvhCX5"
      },
      "execution_count": null,
      "outputs": []
    },
    {
      "cell_type": "markdown",
      "source": [
        "\n",
        "\n",
        "*   Write code to get unique values from the title column\n",
        "*   Use the unique titles to find the number of people who survived (1) and number of people who did not (0) for each title. num_survived/total will give the survival rate for that title\n",
        "*   Make a new dataframe called SR_df and add the survival rates corresponding to titles in it\n",
        "  \n",
        "  You may write a function for the above.\n",
        "  \n",
        "  \n",
        "  Expected output :\n",
        "\n",
        "  Mr    0.679392\n",
        "\n",
        "  Capt    0.1245\n",
        "  \n",
        "  .\n",
        "  \n",
        "  .\n",
        "  \n",
        "  .\n",
        "\n"
      ],
      "metadata": {
        "id": "YEZPL1cb0KJ_"
      }
    },
    {
      "cell_type": "code",
      "source": [
        "# Your code starts here\n",
        "\n",
        "# Your code ends here"
      ],
      "metadata": {
        "id": "8UC58_i0hCTv"
      },
      "execution_count": null,
      "outputs": []
    },
    {
      "cell_type": "code",
      "source": [
        "# show the new dataframe SR_df here\n"
      ],
      "metadata": {
        "id": "GjcMoSceWGeb"
      },
      "execution_count": null,
      "outputs": []
    },
    {
      "cell_type": "markdown",
      "source": [
        "Use SR_df to plot a bar graph for survival rate vs Title"
      ],
      "metadata": {
        "id": "y7vZ9rfT0_pA"
      }
    },
    {
      "cell_type": "code",
      "source": [
        "# Your code starts here\n",
        "\n",
        "# Your code ends here"
      ],
      "metadata": {
        "id": "ng4W58Ip07ZK"
      },
      "execution_count": null,
      "outputs": []
    },
    {
      "cell_type": "markdown",
      "source": [
        "This brings us to the end of EDA.\n",
        "\n",
        "You may feel free to do more exploratry analysis.\n",
        "\n",
        "The aim of this notebook is not to point out every small detail but to give you an overview and guide you"
      ],
      "metadata": {
        "id": "8NPjrR601MJF"
      }
    },
    {
      "cell_type": "markdown",
      "source": [
        "## **4) Data Visualization**\n",
        "\n",
        "Matplotlib documentation: https://matplotlib.org/stable/index.html\n",
        "\n",
        "*   Make a pie chart to show the number of people who survived and number of people who did not\n",
        "*   Make a pie chart to show the number of Males who survived and number of people who did not\n",
        "*   Make a pie chart to show the number of Females who survived and number of people who did not\n",
        "\n",
        "  Note that all three charts must be visible in a single row (look into subplots)\n",
        "\n"
      ],
      "metadata": {
        "id": "ko890jIP1aeT"
      }
    },
    {
      "cell_type": "code",
      "source": [
        "# Your code starts here\n",
        "\n",
        "# Your code ends here"
      ],
      "metadata": {
        "id": "Ha7ilLRU07XB"
      },
      "execution_count": null,
      "outputs": []
    },
    {
      "cell_type": "markdown",
      "source": [
        "\n",
        "\n",
        "*   Find if money affected survival rate (fare and Pclass)\n",
        "*   Make a bar graph showing Pclass vs survival rate\n",
        "*   Make a KDE plot (use the sns library) and plot Fare based on the Survival (google away for this one)\n",
        "\n"
      ],
      "metadata": {
        "id": "t5-HlUiu14wv"
      }
    },
    {
      "cell_type": "code",
      "source": [
        "# Your code starts here\n",
        "\n",
        "# Your code ends here"
      ],
      "metadata": {
        "id": "bkajVf0H07RX"
      },
      "execution_count": null,
      "outputs": []
    },
    {
      "cell_type": "markdown",
      "source": [
        "## **5) Preprocessing**\n",
        "Preprocessing is an important step before we step into modelling. It is a step that prevents the Rubbish in Rubbish out concept of flawed data.\n",
        "*   when we added the Title column in the datadframe, we did preprocessing on the existing data to extract relevant information. As we also tried to explore and understand the data using survival rate, we saw it under EDA.\n",
        "\n",
        "### 5.a. Removing unnecessary columns\n",
        "*   The columns PassengerId and Ticket play no logical role in being related to the survival of a passenger. Hence we will remove them.\n",
        "*   We will also remove the Name column as we have done feature extraction and obtained titles instead. (test set might have extra titles which are not in the train set. Think about how we would consider them. This however doesn't affect task 1's objective)"
      ],
      "metadata": {
        "id": "p_bnWOyl2OM6"
      }
    },
    {
      "cell_type": "code",
      "source": [
        "# Your code to rmove the unnecessary columns starts here\n",
        "\n",
        "# Your code ends here"
      ],
      "metadata": {
        "id": "uNyrIZYA2Kou"
      },
      "execution_count": null,
      "outputs": []
    },
    {
      "cell_type": "markdown",
      "source": [
        "### 5.b. Nan analysis\n",
        "*   write code to find the percentage of Nans in each column and visualize it in a tabular format\n",
        "*   remove any column having more than 50% Nans as they would be of no use"
      ],
      "metadata": {
        "id": "7SiMBJwt31-h"
      }
    },
    {
      "cell_type": "code",
      "source": [
        "# Your code starts here\n",
        "\n",
        "# Your code ends here"
      ],
      "metadata": {
        "id": "usrzCf_030zV"
      },
      "execution_count": null,
      "outputs": []
    },
    {
      "cell_type": "markdown",
      "source": [
        "*   Fill Nans in the Embark column with the statistical mode\n",
        "*   Fill Nans in the Age column with it's statistical mean"
      ],
      "metadata": {
        "id": "5_3T6TfI4KoC"
      }
    },
    {
      "cell_type": "code",
      "source": [
        "# Your code starts here\n",
        "\n",
        "# Your code ends here"
      ],
      "metadata": {
        "id": "YRtBp3ou2Kly"
      },
      "execution_count": null,
      "outputs": []
    },
    {
      "cell_type": "markdown",
      "source": [
        "*   show the new Nan percentage vs column name table after filling and removing to make sure there are no Nans"
      ],
      "metadata": {
        "id": "UVA5dmo64agZ"
      }
    },
    {
      "cell_type": "code",
      "source": [
        "# Your code starts here\n",
        "\n",
        "# Your code ends here"
      ],
      "metadata": {
        "id": "X7mqaLDM2KiG"
      },
      "execution_count": null,
      "outputs": []
    },
    {
      "cell_type": "markdown",
      "source": [
        "### 5.c. Adding features to the dataset\n",
        "*   Read the kaggle link (titanic dataset) provided above and see what the two columns SibSP and Parch signify\n",
        "*   Using that create a new column called **Family_members**\n",
        "*   Fill it with the sum of SibSP and Parch"
      ],
      "metadata": {
        "id": "uXNr-XBG4gQk"
      }
    },
    {
      "cell_type": "code",
      "source": [
        "# Your code starts here\n",
        "\n",
        "# Your code ends here"
      ],
      "metadata": {
        "id": "bKsj6Se_2Kfp"
      },
      "execution_count": null,
      "outputs": []
    },
    {
      "cell_type": "markdown",
      "source": [
        "### 5.d. Scaling and Normalization\n",
        "We don't want to give undue advantage to a few columns (when training models), just because they have a numeric data that is larger in magnitude.\n",
        "Therefore we scale all values down to a specific range or distribution\n",
        "\n",
        "Columns to apply scaling on:\n",
        "*   Age\n",
        "*   Fare\n",
        "*   Family_members\n",
        "\n",
        "Although Pclass column is numeric, it contains classification data (only 1, 2 and 3). Therefore only continuous data like age, fare, etc needs to be normalized.\n",
        "Read about standardization and normalization in this link https://www.geeksforgeeks.org/normalization-vs-standardization/ .\n",
        "Apply the formulas given in the link above and scale/normalize the features that are supposed to be scaled\n",
        "It is your choice to choose wether you choose to normalize or standardize a column. You will be able to make your choice after reading the link contents.\n",
        "If you feel confused with the choice, then you can go ahead and directly normalize."
      ],
      "metadata": {
        "id": "DidzdpMD46O7"
      }
    },
    {
      "cell_type": "code",
      "source": [
        "# Your code starts here\n",
        "\n",
        "# Your code ends here"
      ],
      "metadata": {
        "id": "c1mxHzuI43UY"
      },
      "execution_count": null,
      "outputs": []
    },
    {
      "cell_type": "markdown",
      "source": [
        "### 5.e. One hot encoding\n",
        "Machine Learning models do not understand strings, they understand numbers, that is one of the reasons why we one hot encode few columns\n",
        "refer this link for more information : https://datagy.io/pandas-get-dummies/\n",
        "\n",
        "you can use this or directly look into pandas get_dummies() method to implement this\n",
        "\n",
        "Columns to apply one_hot encoding on:\n",
        "*   Pclass\n",
        "*   Sex\n",
        "*   Title\n",
        "*   Embarked"
      ],
      "metadata": {
        "id": "1YbOCJwp5wQD"
      }
    },
    {
      "cell_type": "code",
      "source": [
        "# Your code starts here\n",
        "\n",
        "# Your code ends here"
      ],
      "metadata": {
        "id": "V8MVtBf25uxB"
      },
      "execution_count": null,
      "outputs": []
    },
    {
      "cell_type": "code",
      "source": [
        "# Show your final dataframe here\n"
      ],
      "metadata": {
        "id": "ID6jIU4v5utt"
      },
      "execution_count": null,
      "outputs": []
    },
    {
      "cell_type": "markdown",
      "source": [
        "## Bonus: You can research on the topic of Standardization vs Normalization **only if** you are done with the task, the best research will be edited and featured on the Synapse Instagram page. You can contact us for any doubts regarding this as well! Happy coding! :)"
      ],
      "metadata": {
        "id": "b695egLx6g_a"
      }
    },
    {
      "cell_type": "code",
      "source": [],
      "metadata": {
        "id": "FFlEG2hA7aru"
      },
      "execution_count": null,
      "outputs": []
    }
  ]
}